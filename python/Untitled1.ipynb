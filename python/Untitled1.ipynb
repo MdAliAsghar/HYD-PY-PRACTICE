{
 "cells": [
  {
   "cell_type": "markdown",
   "metadata": {},
   "source": [
    "### Read the input as string and Output will followed\n",
    "#### ■ Input : orange\n",
    "#### ■ Output : puboif\n",
    "### Reason: Print the next consonent to the vowel and Print the vowel to the next consonent"
   ]
  },
  {
   "cell_type": "code",
   "execution_count": 14,
   "metadata": {},
   "outputs": [],
   "source": [
    "def isVowel(x):  \n",
    "       if (x != 'a' and x != 'e' and x != 'i' and x != 'o' and x != 'u'):\n",
    "            return False\n",
    "       else:\n",
    "            return True\n",
    "\n",
    "  "
   ]
  },
  {
   "cell_type": "code",
   "execution_count": 13,
   "metadata": {},
   "outputs": [
    {
     "name": "stdout",
     "output_type": "stream",
     "text": [
      "amiathjas\n"
     ]
    }
   ],
   "source": [
    "def isVowel(ch): \n",
    "  \n",
    "    if (ch != 'a' and ch != 'e' and \n",
    "        ch != 'i' and ch != 'o' and \n",
    "        ch != 'u'): \n",
    "        return False; \n",
    "  \n",
    "    return True; \n",
    " \n",
    "def replaceConsonants(s): \n",
    "     \n",
    "    for i in range(len(s)): \n",
    "        if (isVowel(s[i])==False): \n",
    "  \n",
    "            if (s[i] == 'z'): \n",
    "                s[i] = 'b'; \n",
    "  \n",
    "            \n",
    "            else: \n",
    "   \n",
    "                s[i] = chr(ord(s[i]) + 1); \n",
    "  \n",
    "                if (isVowel(s[i])==True): \n",
    "                    s[i] = chr(ord(s[i]) + 1); \n",
    "  \n",
    "    return ''.join(s); \n",
    "  \n",
    "\n",
    "s = \"aliasghar\"; \n",
    "  \n",
    "print(replaceConsonants(list(s))); "
   ]
  },
  {
   "cell_type": "markdown",
   "metadata": {},
   "source": [
    "## 2. Read the input as string and Output will be alternate words in lower case\n",
    "#### ■ Input : Learn Python Programming EASy\n",
    "#### ■ Output : python easy"
   ]
  },
  {
   "cell_type": "code",
   "execution_count": 22,
   "metadata": {},
   "outputs": [
    {
     "name": "stdout",
     "output_type": "stream",
     "text": [
      "enter a stringI Am aLi\n",
      "am "
     ]
    }
   ],
   "source": [
    "li=[]\n",
    "str=input(\"enter a string\")\n",
    "li=str.split()\n",
    "for i in range(1,len(li),2):\n",
    "    print(li[i].lower(),end=\" \")\n",
    "    "
   ]
  },
  {
   "cell_type": "markdown",
   "metadata": {},
   "source": [
    "### Question Input string : \"xyz:750,abc:265,qwerty:195\"\n",
    "Output string : abc\n",
    "For digits:\n",
    "1. find the reverse of the number and add it to the original number\n",
    "2. if that sum is not a palindrome,again add its reverse to that sum\n",
    "3. Find the palindrome numbers for each number in the string by repeating the above step\n",
    "4. Find the maximum palindrome number among all and its original number\n",
    "5. And return the alphabetic code of that palindrome number as output\n",
    "temp1=abc\n",
    "temp2=qwerty\n",
    "abc=int(input(\"enter the number\"))\n",
    "qwerty=int(input(\"enter the number\"))"
   ]
  },
  {
   "cell_type": "code",
   "execution_count": null,
   "metadata": {},
   "outputs": [],
   "source": [
    "xyz=int(input(\"enter the number\"))\n",
    "\n",
    "temp=xyz\n",
    "rev = 0\n",
    "while True: \n",
    "    while xyz!=0:\n",
    "        rem = xyz %10    \n",
    "        rev = (rev *10) + rem \n",
    "        xyz = xyz //10    \n",
    "        if(temp==rev):\n",
    "            print(temp)\n",
    "            break\n",
    "        else:\n",
    "            temp=temp+rev\n",
    "            break\n",
    "        \n",
    "print(temp)"
   ]
  },
  {
   "cell_type": "code",
   "execution_count": null,
   "metadata": {},
   "outputs": [],
   "source": []
  },
  {
   "cell_type": "code",
   "execution_count": 4,
   "metadata": {},
   "outputs": [
    {
     "name": "stdout",
     "output_type": "stream",
     "text": [
      "enter the number750\n"
     ]
    },
    {
     "data": {
      "text/plain": [
       "807"
      ]
     },
     "execution_count": 4,
     "metadata": {},
     "output_type": "execute_result"
    }
   ],
   "source": [
    "xyz=int(input(\"enter the number\"))\n",
    "def ispalindrome(xyz):\n",
    "    rev = 0\n",
    "    temp=xyz\n",
    "    while True: \n",
    "        while xyz!=0:\n",
    "            rem = xyz %10    \n",
    "            rev = (rev *10) + rem \n",
    "            xyz = xyz //10    \n",
    "        if(temp==rev):\n",
    "            break\n",
    "        else:\n",
    "            temp=temp+rev\n",
    "            return temp\n",
    "        break\n",
    "   \n",
    "        \n",
    "ispalindrome(xyz)"
   ]
  },
  {
   "cell_type": "code",
   "execution_count": null,
   "metadata": {},
   "outputs": [],
   "source": []
  },
  {
   "cell_type": "code",
   "execution_count": null,
   "metadata": {},
   "outputs": [],
   "source": []
  },
  {
   "cell_type": "code",
   "execution_count": null,
   "metadata": {},
   "outputs": [],
   "source": []
  },
  {
   "cell_type": "code",
   "execution_count": null,
   "metadata": {},
   "outputs": [],
   "source": []
  }
 ],
 "metadata": {
  "kernelspec": {
   "display_name": "Python 3",
   "language": "python",
   "name": "python3"
  },
  "language_info": {
   "codemirror_mode": {
    "name": "ipython",
    "version": 3
   },
   "file_extension": ".py",
   "mimetype": "text/x-python",
   "name": "python",
   "nbconvert_exporter": "python",
   "pygments_lexer": "ipython3",
   "version": "3.7.3"
  }
 },
 "nbformat": 4,
 "nbformat_minor": 2
}
