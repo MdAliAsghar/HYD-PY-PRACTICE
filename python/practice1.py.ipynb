{
 "cells": [
  {
   "cell_type": "code",
   "execution_count": 11,
   "metadata": {},
   "outputs": [
    {
     "name": "stdout",
     "output_type": "stream",
     "text": [
      "enter the range2\n",
      "enter the stringhgf\n",
      "enter the stringkjhgf\n",
      "['hgf', 'kjhgf']\n",
      "the string is not palindrome\n",
      "the string is not palindrome\n"
     ]
    }
   ],
   "source": [
    "lis=[]\n",
    "n=int(input(\"enter the range\"))\n",
    "for i in range(0,n):\n",
    "    lis.append(input(\"enter the string\"))\n",
    "print (lis)    \n",
    "for i in range(0,n):\n",
    "    if lis[i]==lis[i][-1::-1]:\n",
    "        print(\"the string is palindrome\")\n",
    "    else:\n",
    "        print(\"the string is not palindrome\")   "
   ]
  },
  {
   "cell_type": "code",
   "execution_count": 14,
   "metadata": {},
   "outputs": [
    {
     "name": "stdout",
     "output_type": "stream",
     "text": [
      "enter the stringmoooom moom mom moooooooom \n",
      "['moooom', 'moom', 'mom', 'moooooooom']\n",
      "the greatest palindrome moooooooom\n",
      "the smallest palindrome  mom\n"
     ]
    }
   ],
   "source": [
    "# palindrome using string concept\n",
    "lis=[]\n",
    "temp=0\n",
    "temp1=1000\n",
    "str=input(\"enter the string\")\n",
    "lis=str.split()\n",
    "print(lis)\n",
    "for i in lis:\n",
    "    if i==i[-1::-1]:\n",
    "        #print(\"the string is palindrome\",\"   \",i)\n",
    "        a=len(i)\n",
    "        if(a>=temp):\n",
    "            temp=a\n",
    "            grt=i\n",
    "        if(a<=temp1):\n",
    "            temp1=a \n",
    "            sml=i\n",
    "           # print(\"the string is not palindrome\",\"  \",i) \n",
    "print(\"the greatest palindrome\",grt)\n",
    "print(\"the smallest palindrome \",sml)"
   ]
  },
  {
   "cell_type": "code",
   "execution_count": 1,
   "metadata": {},
   "outputs": [
    {
     "name": "stdout",
     "output_type": "stream",
     "text": [
      "max palindrome mom\n",
      "min palindrome malayalam\n"
     ]
    }
   ],
   "source": [
    "str=\"hello mom noon moon malayalam \"\n",
    "s1=str.split()\n",
    "lis=[]\n",
    "for i in s1:\n",
    "    a=i[::-1]\n",
    "    if a==i:\n",
    "        lis.append(a)\n",
    "y=sorted(lis,key=len)\n",
    "print(\"max palindrome\",y[0])\n",
    "print(\"min palindrome\",y[-1])\n",
    "  "
   ]
  },
  {
   "cell_type": "code",
   "execution_count": 12,
   "metadata": {},
   "outputs": [
    {
     "name": "stdout",
     "output_type": "stream",
     "text": [
      "enter the string  abc cba \n",
      " abc cba\n"
     ]
    }
   ],
   "source": [
    "str=input(\"enter the string  \")\n",
    "print(str [-1::-1])  "
   ]
  },
  {
   "cell_type": "code",
   "execution_count": 18,
   "metadata": {},
   "outputs": [
    {
     "name": "stdout",
     "output_type": "stream",
     "text": [
      "enter the stringkjkkkk kik moom mooom\n",
      "['kjkkkk', 'kik', 'moom', 'mooom']\n",
      "[]\n",
      "kik\n",
      "moom\n",
      "mooom\n",
      "the greatest palindrome m\n",
      "the smallest palindrome  m\n"
     ]
    }
   ],
   "source": [
    "lis=[]\n",
    "temp=[]\n",
    "str=input(\"enter the string\")\n",
    "lis=str.split()\n",
    "print(lis)\n",
    "for i in lis:\n",
    "    if i==i[-1::-1]:\n",
    "        temp=i\n",
    "           # print(\"the string is not palindrome\",\"  \",i) \n",
    "print(\"the greatest palindrome\",max(temp,key=len))\n",
    "print(\"the smallest palindrome \",min(temp,key=len))"
   ]
  },
  {
   "cell_type": "code",
   "execution_count": 20,
   "metadata": {},
   "outputs": [
    {
     "name": "stdout",
     "output_type": "stream",
     "text": [
      "enter the string  hello world\n",
      "the total vowels =  3\n",
      "the total constant =  8\n"
     ]
    }
   ],
   "source": [
    "vowels=0\n",
    "constant=0\n",
    "str=input(\"enter the string  \")\n",
    "for i in str:\n",
    "    if(i=='a' or i=='e' or i=='i' or i=='o'or i=='u'):\n",
    "        vowels = vowels + 1\n",
    "    else:\n",
    "        constant=constant + 1\n",
    "print(\"the total vowels = \",vowels)\n",
    "print(\"the total constant = \",constant)"
   ]
  },
  {
   "cell_type": "markdown",
   "metadata": {},
   "source": [
    "## Raptor programs\n"
   ]
  },
  {
   "cell_type": "code",
   "execution_count": 6,
   "metadata": {},
   "outputs": [
    {
     "name": "stdout",
     "output_type": "stream",
     "text": [
      "enter the year2016\n",
      "its leap year\n"
     ]
    }
   ],
   "source": [
    "#  check whether a year is a leap year or not.\n",
    "year=int(input(\"enter the year\"))\n",
    "if(year%4==0 or year%400==0):\n",
    "    print(\"its leap year\")\n",
    "else:\n",
    "    print(\"its not leap year\")\n",
    "    "
   ]
  },
  {
   "cell_type": "code",
   "execution_count": 15,
   "metadata": {},
   "outputs": [
    {
     "name": "stdout",
     "output_type": "stream",
     "text": [
      "enter the week number8\n",
      "wrong input\n",
      "8\n"
     ]
    }
   ],
   "source": [
    "##  input week number and print week day\n",
    "weekno=int(input(\"enter the week number\"))\n",
    "if (weekno ==1):\n",
    "    weekno=\"monday\"\n",
    "elif (weekno ==2):\n",
    "    weekno=\"tuesday\"\n",
    "elif(weekno==3):\n",
    "    weekno=\"wednesday\"\n",
    "elif(weekno==4):\n",
    "    weekno=\"thursday\"\n",
    "elif (weekno ==5):\n",
    "    weekno=\"friday\"\n",
    "elif(weekno==6):\n",
    "    weekno=\"saturday\"\n",
    "elif(weekno==7):\n",
    "    weekno=\"sunday\"\n",
    "else:\n",
    "    print(\"wrong input\")\n",
    "print(weekno)    \n",
    "        "
   ]
  },
  {
   "cell_type": "code",
   "execution_count": 17,
   "metadata": {},
   "outputs": [
    {
     "name": "stdout",
     "output_type": "stream",
     "text": [
      "Enter the 1st number12\n",
      "Enter the 2nd number3\n",
      "Enter the 3rd number45\n",
      "C is the largest number\n"
     ]
    }
   ],
   "source": [
    "#  find the largest of three numbers\n",
    "A=int(input(\"Enter the 1st number\"))\n",
    "B=int(input(\"Enter the 2nd number\"))\n",
    "C=int(input(\"Enter the 3rd number\"))\n",
    "if(A>B and A>C):\n",
    "    print(\"A is the largest number\")\n",
    "elif(B>C):\n",
    "     print(\"B is the largest number\")\n",
    "else:\n",
    "     print(\"C is the largest number\")"
   ]
  },
  {
   "cell_type": "code",
   "execution_count": 23,
   "metadata": {},
   "outputs": [
    {
     "name": "stdout",
     "output_type": "stream",
     "text": [
      "Enter the nth number6\n",
      "the sum of series 21\n"
     ]
    }
   ],
   "source": [
    "# find sum of series 1+2+3+…..+N\n",
    "sumno=0\n",
    "n=int(input(\"Enter the nth number\"))\n",
    "for i in range(1,n+1):\n",
    "    sumno=sumno+i\n",
    "print(\"the sum of series\",sumno)    "
   ]
  },
  {
   "cell_type": "code",
   "execution_count": 24,
   "metadata": {},
   "outputs": [
    {
     "name": "stdout",
     "output_type": "stream",
     "text": [
      "Enter the nth number7\n",
      "the sum of series 16\n"
     ]
    }
   ],
   "source": [
    "# sum of series 1+3+5+…..+N, Where N is positive odd Integer\n",
    "sumno=0\n",
    "n=int(input(\"Enter the nth number\"))\n",
    "for i in range(1,n+1):\n",
    "    if(i%2==1):\n",
    "        sumno=sumno+i\n",
    "print(\"the sum of series\",sumno)          "
   ]
  },
  {
   "cell_type": "code",
   "execution_count": 25,
   "metadata": {},
   "outputs": [
    {
     "name": "stdout",
     "output_type": "stream",
     "text": [
      "Enter the nth number9\n",
      "the sum of series 45\n",
      "the average of series 5.0\n"
     ]
    }
   ],
   "source": [
    "# find sum and average of given series of numbers\n",
    "sumno=0\n",
    "n=int(input(\"Enter the nth number\"))\n",
    "for i in range(1,n+1):\n",
    "    sumno=sumno+i\n",
    "print(\"the sum of series\",sumno) \n",
    "averg=sumno/n\n",
    "print(\"the average of series\",averg)"
   ]
  },
  {
   "cell_type": "code",
   "execution_count": 26,
   "metadata": {},
   "outputs": [
    {
     "name": "stdout",
     "output_type": "stream",
     "text": [
      "enter a number10\n",
      "1\n",
      "2\n",
      "5\n",
      "10\n"
     ]
    }
   ],
   "source": [
    "# find all the divisor of a number\n",
    "n=int(input(\"enter a number\"))\n",
    "for i in range(1,n+1):\n",
    "    if(n%i==0):\n",
    "        print(i)"
   ]
  },
  {
   "cell_type": "code",
   "execution_count": 27,
   "metadata": {},
   "outputs": [
    {
     "name": "stdout",
     "output_type": "stream",
     "text": [
      "enter the celsius78\n",
      "the fahrenheit 172.4\n"
     ]
    }
   ],
   "source": [
    "# convert temperature from Celsius to Fahrenheit\n",
    "c=int(input(\"enter the celsius\"))\n",
    "f=(c * 9/5) + 32 \n",
    "print (\"the fahrenheit\",f)"
   ]
  },
  {
   "cell_type": "code",
   "execution_count": 29,
   "metadata": {},
   "outputs": [
    {
     "name": "stdout",
     "output_type": "stream",
     "text": [
      "enter the age of the person9\n",
      "the person is not eligible for voting\n"
     ]
    }
   ],
   "source": [
    "# the candidate is eligible for voting or not\n",
    "age=int(input(\"enter the age of the person\"))\n",
    "if(age>18):\n",
    "    print(\"the person is eligible for voting\")\n",
    "else:\n",
    "    print(\"the person is not eligible for voting\")"
   ]
  },
  {
   "cell_type": "markdown",
   "metadata": {},
   "source": [
    "##### Accept three subjects marks of a student\n",
    "\tIf he gets minimum 30 marks in three subjects then find average otherwise print fail\n",
    "\tIf avg>75-->print Grade-A\n",
    "\tIf avg>65 and avg<75-->Grade B\n",
    "\tIf avg>45 and avg>65-->Grade C\n",
    "\tIf avg>30 and avg<45-->Grade D\n",
    "\tElse Fail"
   ]
  },
  {
   "cell_type": "code",
   "execution_count": 2,
   "metadata": {},
   "outputs": [
    {
     "name": "stdout",
     "output_type": "stream",
     "text": [
      "Enter the 1st subject=85\n",
      "Enter the 2nd subject=86\n",
      "Enter the 3rd subject=95\n",
      "Grade A\n"
     ]
    }
   ],
   "source": [
    "A=int(input(\"Enter the 1st subject=\"))\n",
    "B=int(input(\"Enter the 2nd subject=\"))\n",
    "C=int(input(\"Enter the 3rd subject=\"))\n",
    "if(A>=30 and B>=30 and C>=30):\n",
    "    S = A + B + C\n",
    "    avg = S/3\n",
    "    if avg>75:\n",
    "        print(\"Grade A\")\n",
    "    if avg>65 and avg<75:\n",
    "        print(\"Grade B\")\n",
    "    if avg>45 and avg<65:\n",
    "        print(\"Grade C\")\n",
    "    if avg>30 and avg<45:\n",
    "        print(\"Grade D\")\n",
    "else:\n",
    "    print(\"Fail\")"
   ]
  },
  {
   "cell_type": "code",
   "execution_count": null,
   "metadata": {},
   "outputs": [],
   "source": []
  },
  {
   "cell_type": "code",
   "execution_count": null,
   "metadata": {},
   "outputs": [],
   "source": []
  }
 ],
 "metadata": {
  "kernelspec": {
   "display_name": "Python 3",
   "language": "python",
   "name": "python3"
  },
  "language_info": {
   "codemirror_mode": {
    "name": "ipython",
    "version": 3
   },
   "file_extension": ".py",
   "mimetype": "text/x-python",
   "name": "python",
   "nbconvert_exporter": "python",
   "pygments_lexer": "ipython3",
   "version": "3.7.3"
  }
 },
 "nbformat": 4,
 "nbformat_minor": 2
}
