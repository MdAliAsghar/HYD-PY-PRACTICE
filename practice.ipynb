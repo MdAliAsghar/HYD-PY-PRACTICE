{
 "cells": [
  {
   "cell_type": "code",
   "execution_count": 1,
   "metadata": {},
   "outputs": [
    {
     "ename": "IndentationError",
     "evalue": "unexpected indent (<ipython-input-1-97f4087d1cf4>, line 6)",
     "output_type": "error",
     "traceback": [
      "\u001b[1;36m  File \u001b[1;32m\"<ipython-input-1-97f4087d1cf4>\"\u001b[1;36m, line \u001b[1;32m6\u001b[0m\n\u001b[1;33m    print(s1)\u001b[0m\n\u001b[1;37m    ^\u001b[0m\n\u001b[1;31mIndentationError\u001b[0m\u001b[1;31m:\u001b[0m unexpected indent\n"
     ]
    }
   ],
   "source": [
    "def ispalindrome():\n",
    "    s1 = raw_input(\"enter sentence\")\n",
    "    s2 = s1.split(1,2)\n",
    "    s3 = s1[-1::-1]\n",
    "    \n",
    "        print(s1)\n",
    "    else:\n",
    "        print(\"there is no palindrome\")\n",
    "        \n",
    "        "
   ]
  },
  {
   "cell_type": "code",
   "execution_count": 3,
   "metadata": {},
   "outputs": [
    {
     "name": "stdout",
     "output_type": "stream",
     "text": [
      "YES\n"
     ]
    }
   ],
   "source": [
    "x = \"malayalam\"\n",
    "w = \"\" \n",
    "for i in x: \n",
    "    w = i + w \n",
    "    if (x==w): \n",
    "        print(\"YES\") "
   ]
  },
  {
   "cell_type": "code",
   "execution_count": 4,
   "metadata": {},
   "outputs": [
    {
     "name": "stdout",
     "output_type": "stream",
     "text": [
      "Yes\n"
     ]
    }
   ],
   "source": [
    "import string\n",
    "\n",
    "alphabet = set(string.ascii_lowercase) \n",
    "def ispangram(str): \n",
    "     return not set(alphabet) - set(str) \n",
    "\n",
    "string = 'the quick brown fox jumps over the lazy dog'\n",
    "if(ispangram(string) == True): \n",
    "    print(\"Yes\") \n",
    "else: \n",
    "    print(\"No\") "
   ]
  },
  {
   "cell_type": "code",
   "execution_count": 6,
   "metadata": {},
   "outputs": [
    {
     "name": "stdout",
     "output_type": "stream",
     "text": [
      "The string is a palindrome.\n"
     ]
    }
   ],
   "source": [
    "my_str = 'aIbohPhoBiA'\n",
    "# make it suitable for caseless comparison\n",
    "my_str = my_str.casefold()\n",
    "# reverse the string\n",
    "rev_str = reversed(my_str)\n",
    "# check if the string is equal to its reverse\n",
    "if list(my_str) == list(rev_str):\n",
    "   print(\"The string is a palindrome.\")\n",
    "else:\n",
    "   print(\"The string is not a palindrome.\")"
   ]
  },
  {
   "cell_type": "code",
   "execution_count": 7,
   "metadata": {},
   "outputs": [
    {
     "name": "stdout",
     "output_type": "stream",
     "text": [
      "The string is not a palindrome.\n"
     ]
    }
   ],
   "source": [
    "my_str = 'his name is juj'\n",
    "my_str = my_str.casefold()\n",
    "rev_str = reversed(my_str)\n",
    "if list(my_str) == list(rev_str):\n",
    "   print(\"The string is a palindrome.\")\n",
    "else:\n",
    "   print(\"The string is not a palindrome.\")"
   ]
  },
  {
   "cell_type": "code",
   "execution_count": 5,
   "metadata": {},
   "outputs": [
    {
     "name": "stdout",
     "output_type": "stream",
     "text": [
      "i am ali\n",
      "The reversed string is : ila ma i\n"
     ]
    }
   ],
   "source": [
    "def reverse(s): \n",
    "  str = \"\" \n",
    "  for i in s: \n",
    "    str = i + str\n",
    "  return str\n",
    "  \n",
    "s = \"i am ali\"\n",
    "print (s) \n",
    "print (\"The reversed string is : \",end=\"\") \n",
    "print (reverse(s)) "
   ]
  },
  {
   "cell_type": "code",
   "execution_count": 7,
   "metadata": {},
   "outputs": [
    {
     "name": "stdout",
     "output_type": "stream",
     "text": [
      "enter the sentencemoon just looks woow and dont know what to say in malayalam\n",
      "moon just looks woow and dont know what to say in malayalam\n",
      "greatest value is malayalam\n",
      "smallest value is woow\n"
     ]
    }
   ],
   "source": [
    "s1=input(\"enter the sentence\")\n",
    "temp = 0\n",
    "temp1 = 100\n",
    "li = s1.split()\n",
    "print(s1)\n",
    "for i in li:\n",
    "    a = len(i)\n",
    "    if i == i[-1::-1]:\n",
    "        if a>=temp:\n",
    "            temp=a\n",
    "            grt=i\n",
    "        if a<=temp1:\n",
    "            temp1=a\n",
    "            sml=i\n",
    "print(\"greatest value is\",grt)\n",
    "print(\"smallest value is\",sml)"
   ]
  },
  {
   "cell_type": "code",
   "execution_count": 8,
   "metadata": {},
   "outputs": [
    {
     "name": "stdout",
     "output_type": "stream",
     "text": [
      "enter the sentencethe sun rises from the east\n",
      "tsae eht morf sesir nus eht\n"
     ]
    }
   ],
   "source": [
    "s1=input(\"enter the sentence\")\n",
    "s1=s1[::-1]\n",
    "print(s1)"
   ]
  },
  {
   "cell_type": "code",
   "execution_count": 1,
   "metadata": {},
   "outputs": [
    {
     "name": "stdout",
     "output_type": "stream",
     "text": [
      "please enter your own string:i am ali\n",
      "no of vowels = 0\n",
      "no of consonants = 4\n"
     ]
    }
   ],
   "source": [
    "str1 = input(\"please enter your own string:\")\n",
    "vowels = 0\n",
    "consonants = 0\n",
    "for i in str1:\n",
    "    if(i == 'a' or i == 'e' or i =='i' or i == 'o' or i == 'u'):\n",
    "         vowels == vowels + 1\n",
    "    else:\n",
    "        consonants = consonants + 1\n",
    "print(\"no of vowels =\",vowels)\n",
    "print(\"no of consonants =\",consonants)"
   ]
  },
  {
   "cell_type": "code",
   "execution_count": 4,
   "metadata": {},
   "outputs": [
    {
     "name": "stdout",
     "output_type": "stream",
     "text": [
      "please enter your own string:i am ali\n",
      "no of vowels = 4\n",
      "no of consonants = 4\n"
     ]
    }
   ],
   "source": [
    "str1 = input(\"please enter your own string:\")\n",
    "vowels = 0\n",
    "consonants = 0\n",
    "for i in str1:\n",
    "    if(i == 'a' or i == 'e' or i =='i' or i == 'o' or i == 'u'):\n",
    "        \n",
    "         vowels = vowels + 1\n",
    "    else:\n",
    "        consonants = consonants + 1\n",
    "print(\"no of vowels =\",vowels)\n",
    "print(\"no of consonants =\",consonants)"
   ]
  },
  {
   "cell_type": "code",
   "execution_count": null,
   "metadata": {},
   "outputs": [],
   "source": []
  }
 ],
 "metadata": {
  "kernelspec": {
   "display_name": "Python 3",
   "language": "python",
   "name": "python3"
  },
  "language_info": {
   "codemirror_mode": {
    "name": "ipython",
    "version": 3
   },
   "file_extension": ".py",
   "mimetype": "text/x-python",
   "name": "python",
   "nbconvert_exporter": "python",
   "pygments_lexer": "ipython3",
   "version": "3.7.3"
  }
 },
 "nbformat": 4,
 "nbformat_minor": 2
}
